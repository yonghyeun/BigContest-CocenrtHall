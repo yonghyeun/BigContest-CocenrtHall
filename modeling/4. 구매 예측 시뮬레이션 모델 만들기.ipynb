{
 "cells": [
  {
   "cell_type": "markdown",
   "metadata": {},
   "source": [
    "# 4. 구매 예측 시뮬레이션 모델 만들기\n",
    "\n",
    "원활한 딥러닝 모델 구축을 위해 Colab 에서 진행했습니다\n",
    "\n",
    "url : https://colab.research.google.com/drive/1UtoO0CAt0IYkWaSLxauuWFOsnEUoQC0t#scrollTo=ylvPFa20DOaW"
   ]
  }
 ],
 "metadata": {
  "language_info": {
   "name": "python"
  },
  "orig_nbformat": 4
 },
 "nbformat": 4,
 "nbformat_minor": 2
}
