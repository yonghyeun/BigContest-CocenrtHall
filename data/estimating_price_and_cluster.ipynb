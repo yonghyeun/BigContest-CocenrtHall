{
 "cells": [
  {
   "cell_type": "markdown",
   "metadata": {},
   "source": [
    "## 예술의전당 콘서트홀 가격 모델"
   ]
  },
  {
   "cell_type": "markdown",
   "metadata": {},
   "source": [
    "### 1. 라이브러리"
   ]
  },
  {
   "cell_type": "code",
   "execution_count": 199,
   "metadata": {},
   "outputs": [],
   "source": [
    "# base\n",
    "import pandas as pd\n",
    "import numpy as np\n",
    "import re\n",
    "\n",
    "# files\n",
    "from glob import glob\n",
    "import warnings\n",
    "from tqdm import tqdm\n",
    "\n",
    "# visualization\n",
    "import matplotlib.pyplot as plt\n",
    "import koreanize_matplotlib\n",
    "import plotly.express as px\n",
    "import seaborn as sns\n",
    "import matplotlib.colors as mcolors\n",
    "from matplotlib.cm import ScalarMappable\n",
    "\n",
    "# M.L\n",
    "from sklearn.neighbors import KNeighborsRegressor\n",
    "from sklearn.linear_model import LinearRegression\n",
    "from sklearn.cluster import KMeans\n",
    "from sklearn.model_selection import train_test_split, cross_val_score\n",
    "from sklearn.metrics import mean_squared_error, silhouette_score\n",
    "from kneed import KneeLocator"
   ]
  },
  {
   "cell_type": "code",
   "execution_count": 200,
   "metadata": {},
   "outputs": [],
   "source": [
    "# settings\n",
    "%matplotlib inline\n",
    "pd.set_option(\"display.max_columns\", 100)\n",
    "pd.set_option('display.max_rows', 100)\n",
    "warnings.simplefilter(\"ignore\")\n"
   ]
  },
  {
   "cell_type": "markdown",
   "metadata": {},
   "source": [
    "### 2. 데이터셋 로드"
   ]
  },
  {
   "cell_type": "code",
   "execution_count": 205,
   "metadata": {},
   "outputs": [
    {
     "name": "stdout",
     "output_type": "stream",
     "text": [
      "Found.. 1 file(s) : ['빈좌석_포함_클래식_데이터.csv']\n",
      "Reading.. 빈좌석_포함_클래식_데이터.csv\n",
      "df.shape : (405810, 34)\n"
     ]
    }
   ],
   "source": [
    "# 기존의 제공된 데이터프레임에 빈좌석, 좌표, 무대와의 관계가 추가된 데이터프레임\n",
    "file_name = \"빈좌석_포함_클래식_데이터.csv\"\n",
    "df = pd.read_csv(glob(file_name)[0], low_memory=False)\n",
    "\n",
    "# 필요없는 컬럼 삭제\n",
    "df = df.drop(['membership_type_1', 'membership_type_2', 'membership_type_3', \n",
    "              'membership_type_4', 'membership_type_5', 'membership_type_6',], axis=1)\n",
    "\n",
    "print(f\"\"\"Found.. {len(glob(file_name))} file(s) : {glob(file_name)}\n",
    "Reading.. {glob(file_name)[-1]}\n",
    "df.shape : {df.shape}\"\"\")\n"
   ]
  },
  {
   "cell_type": "markdown",
   "metadata": {},
   "source": [
    "### 3. 클래스/함수 : 원가격, 원등급 추정"
   ]
  },
  {
   "cell_type": "code",
   "execution_count": 206,
   "metadata": {},
   "outputs": [],
   "source": [
    "class Performance:\n",
    "    instance_cnt = 0\n",
    "\n",
    "    def __init__(self, df):\n",
    "        Performance.instance_cnt += 1\n",
    "        self.instance_cnt = Performance.instance_cnt\n",
    "        self.df = df\n",
    "        self.perform_time = df['전체공연시간'].iloc[0]\n",
    "        self.get_original_price()\n",
    "    \n",
    "\n",
    "    def get_original_price(self):\n",
    "        \"\"\"\n",
    "        discount_type에서 할인율을 추출하고 역산해서 '할인전금액'을 df에 컬럼으로 추가하는 함수\n",
    "        \"\"\"\n",
    "        self.df['할인율'] = self.df['discount_type'].str.extract('(\\d+)%')\n",
    "        self.df['할인율'] = self.df['할인율'].fillna(0).astype(int) / 100\n",
    "        self.df['할인전가격'] = (self.df['price'].fillna(0) // (1 - self.df['할인율'])).round(-2).astype(int)\n",
    "        self.df['원가격추정'] = self.df['할인전가격'].copy()\n",
    "        self.priced_seat = self.df[self.df['원가격추정'] > 0]\n",
    "        self.unpriced_seat = self.df[self.df['원가격추정'] == 0]\n",
    "        self.priced_rate = round((self.priced_seat.shape[0] / self.df.shape[0]), 3)\n",
    "        self.booked_rate = round(self.df['예매여부'].mean(), 3)\n",
    "\n",
    "\n",
    "    def get_best_n_neighbors(self):\n",
    "        \"\"\"\n",
    "        knn가격 추정 모델의 적절한 n_neighbors값을 찾는 함수\n",
    "        \"\"\"\n",
    "        X, y = self.priced_seat[['X', 'Y', 'Z']], self.priced_seat['원가격추정']\n",
    "        cv_scores = []\n",
    "        for n in range(1, min(50, (X.shape[0]*9//10)) + 1):\n",
    "            model = KNeighborsRegressor(n_neighbors=n, weights='distance', p=2)\n",
    "            scores = cross_val_score(model, X, y, cv=10, scoring='neg_mean_squared_error')\n",
    "            cv_scores.append(scores.mean())\n",
    "            self.best_n_neighbors = [i for i in range(1, 51)][np.argmax(cv_scores)]\n",
    "            self.knn_mse = max(cv_scores) * -1\n",
    "\n",
    "\n",
    "    def estimate_price(self):\n",
    "        \"\"\"\n",
    "        knn모델에 추정된 n_neighbors값을 적용해서 판매되지 않은 티켓의 가격을 추정하는 함수\n",
    "        \"\"\"\n",
    "        # 가격을 하나도 알 수 없는 경우 종료\n",
    "        if self.priced_rate == 0:\n",
    "            self.best_n_neighbors = 1\n",
    "            self.knn_mse = 0\n",
    "            self.mean_price = self.max_price = self.min_price = 0\n",
    "            return\n",
    "        \n",
    "        # priced_rate != 0 이면 n_neighbors값 찾기\n",
    "        self.get_best_n_neighbors()\n",
    "\n",
    "        # 찾은 n_neighbors 값으로 knn 가격추정\n",
    "        X, y = self.priced_seat[['X', 'Y', 'Z']], self.priced_seat['원가격추정']\n",
    "        model = KNeighborsRegressor(n_neighbors=self.best_n_neighbors, weights='distance', p=2)\n",
    "        model.fit(X, y)\n",
    "        y_pred = model.predict(self.unpriced_seat[['X', 'Y', 'Z']]).round(-2)\n",
    "        self.df.loc[self.df['원가격추정']==0, '원가격추정'] = y_pred\n",
    "        \n",
    "        self.mean_price = self.df['원가격추정'].mean().round(2)\n",
    "        self.max_price = int(self.df['원가격추정'].max())\n",
    "        self.min_price = int(self.df['원가격추정'].min())\n",
    "\n",
    "    def estimate_cluster_kmeans(self):\n",
    "        # 중복되는 값이 없도록 난수를 더해서 노이즈 만들기\n",
    "        self.df['rand'] = np.random.rand(self.df.shape[0])\n",
    "        self.df['원가격추정_rand'] = self.df['원가격추정'] + self.df['rand']\n",
    "\n",
    "        # 군집화 모델 생성 (K-means)\n",
    "        X = self.df[['원가격추정_rand']]\n",
    "        inertia = []\n",
    "        k_range = range(1, 11)\n",
    "        for k in k_range:\n",
    "            kmeans = KMeans(n_clusters=k, random_state=42, n_init='auto')\n",
    "            kmeans.fit(X)\n",
    "            inertia.append(kmeans.inertia_)\n",
    "        \n",
    "        # 적절한 K값 찾기 (elbow point)        \n",
    "        kneedle = KneeLocator(k_range[1:], inertia[1:], curve='convex', direction='decreasing')\n",
    "        self.best_k = kneedle.elbow\n",
    "\n",
    "        # 찾은 K값을 적용해서 원등급 추정하기\n",
    "        kmeans = KMeans(n_clusters=self.best_k, random_state=42, n_init='auto')\n",
    "        self.df['원등급추정'] = kmeans.fit_predict(X)\n",
    "        cluster_means = self.df.groupby('원등급추정')['원가격추정'].mean().reset_index()\n",
    "        cluster_means = cluster_means.sort_values(by='원가격추정')\n",
    "        grade_mapping = {grade: idx for idx, grade in enumerate(cluster_means['원등급추정'])}\n",
    "        self.df = self.df.drop(['원가격추정_rand', 'rand'], axis=1)\n",
    "\n",
    "        # 원등급, 등급별 가격의 비율, 군집분석의 실루엣점수\n",
    "        self.df['원등급추정'] = self.df['원등급추정'].map(grade_mapping) + 1\n",
    "        self.seat_price_ratio = list((cluster_means['원가격추정'] / min(cluster_means['원가격추정'])).round(2))\n",
    "        self.silhouette_score = silhouette_score(self.df[['원가격추정']], self.df['원등급추정'])\n",
    "\n",
    "\n",
    "    def px3dscatter(self, col_name):\n",
    "        # 결과 시각화\n",
    "        fig = px.scatter_3d(self.df, x='X', y='Y', z='Z', color=col_name, \n",
    "                            hover_name='seat', hover_data=['예매여부', '원가격추정', '원등급추정'],\n",
    "                            width=800, height=600)\n",
    "        fig.update_traces(marker={'size': 1})\n",
    "        fig.show()"
   ]
  },
  {
   "cell_type": "markdown",
   "metadata": {},
   "source": [
    "### 4. 클래스/함수 적용"
   ]
  },
  {
   "cell_type": "code",
   "execution_count": 207,
   "metadata": {},
   "outputs": [],
   "source": [
    "# 전체 데이터를 공연시간을 기준으로 공연별 분할\n",
    "공연시간_list = sorted(df['전체공연시간'].unique())\n",
    "공연별_df_list = [df[df['전체공연시간'] == 공연시간] for 공연시간 in 공연시간_list]"
   ]
  },
  {
   "cell_type": "code",
   "execution_count": 208,
   "metadata": {},
   "outputs": [
    {
     "name": "stderr",
     "output_type": "stream",
     "text": [
      "100%|██████████| 162/162 [02:15<00:00,  1.20it/s]\n"
     ]
    }
   ],
   "source": [
    "# 공연별 군집분석결과\n",
    "instance_cnt_list = []\n",
    "perform_time_list = []\n",
    "priced_rate_list = []\n",
    "booked_rate_list = []\n",
    "best_n_neighbors_list = []\n",
    "knn_mse_list = []\n",
    "best_k_list = []\n",
    "silhouette_score_list = []\n",
    "mean_price_list = []\n",
    "max_price_list = []\n",
    "min_price_list = []\n",
    "seat_price_ratio_list = []\n",
    "df_list = []\n",
    "\n",
    "for 공연별_df in tqdm(공연별_df_list):\n",
    "    p = Performance(공연별_df)\n",
    "    p.estimate_price() # knn => 원가격 추정\n",
    "    p.estimate_cluster_kmeans() # k-means => 원등급 추정\n",
    "\n",
    "    instance_cnt_list.append(p.instance_cnt)\n",
    "    perform_time_list.append(p.perform_time)\n",
    "    priced_rate_list.append(p.priced_rate)\n",
    "    booked_rate_list.append(p.booked_rate)\n",
    "    best_n_neighbors_list.append(p.best_n_neighbors)\n",
    "    knn_mse_list.append(p.knn_mse)\n",
    "    best_k_list.append(p.best_k)\n",
    "    silhouette_score_list.append(p.silhouette_score)\n",
    "    mean_price_list.append(p.mean_price)\n",
    "    max_price_list.append(p.max_price)\n",
    "    min_price_list.append(p.min_price)\n",
    "    seat_price_ratio_list.append(p.seat_price_ratio)\n",
    "    df_list.append(p.df)\n",
    "\n",
    "# 군집결과 데이터프레임으로 합치기\n",
    "new_df = pd.concat(df_list, axis=0)\n",
    "공연정보 = pd.DataFrame({\n",
    "    '공연시간' : perform_time_list,\n",
    "    '금액명시비율' : priced_rate_list,\n",
    "    '예약율' : booked_rate_list,\n",
    "    'knn_n_neighbors' : best_n_neighbors_list,\n",
    "    'knn_mse' : knn_mse_list,\n",
    "    'kmeans_군집수' : best_k_list,\n",
    "    'kmeans_실루엣' : silhouette_score_list,\n",
    "    '평균가격' : mean_price_list,\n",
    "    '최소가격' : min_price_list,\n",
    "    '최대가격' : max_price_list,\n",
    "    '군집별가격비율' : seat_price_ratio_list\n",
    "})"
   ]
  },
  {
   "cell_type": "markdown",
   "metadata": {},
   "source": [
    "총 162개의 클래식공연 중..\n",
    "\n",
    "11개의 공연은 가격이 전혀 명시되지 않았음.  \n",
    "해당 공연의 데이터에서는 원가격, 원등급 추정이 불가함.  \n",
    "이 중 일부는 모두 초대석으로 예매순서 또한 무의미함.  \n",
    "  \n",
    "앞으로의 EDA를 위해 151개의 공연 데이터만 사용하기로 함."
   ]
  },
  {
   "cell_type": "code",
   "execution_count": 219,
   "metadata": {},
   "outputs": [],
   "source": [
    "# 공연별 (추정된) 가격, 등급 정보 요약\n",
    "공연정보_151 = 공연정보.loc[공연정보['금액명시비율']!=0].reset_index().drop('index', axis=1)\n",
    "공연정보_151.to_csv('공연정보요약_151공연.csv', index=False)"
   ]
  },
  {
   "cell_type": "code",
   "execution_count": 211,
   "metadata": {},
   "outputs": [],
   "source": [
    "# 전체공연좌석별 예매 데이터\n",
    "공연151개_list = []\n",
    "for 공연시간 in list(공연정보.loc[공연정보['금액명시비율']!=0, '공연시간']):\n",
    "    공연151개_list.append(new_df[new_df['전체공연시간'] == 공연시간])\n",
    "\n",
    "new_df_151 = pd.concat(공연151개_list, axis=0, ignore_index=True)\n",
    "new_df_151.to_parquet('원가격및등급추정_151공연_데이터.parquet', index=False)"
   ]
  }
 ],
 "metadata": {
  "kernelspec": {
   "display_name": "base",
   "language": "python",
   "name": "python3"
  },
  "language_info": {
   "codemirror_mode": {
    "name": "ipython",
    "version": 3
   },
   "file_extension": ".py",
   "mimetype": "text/x-python",
   "name": "python",
   "nbconvert_exporter": "python",
   "pygments_lexer": "ipython3",
   "version": "3.9.16"
  },
  "orig_nbformat": 4
 },
 "nbformat": 4,
 "nbformat_minor": 2
}
