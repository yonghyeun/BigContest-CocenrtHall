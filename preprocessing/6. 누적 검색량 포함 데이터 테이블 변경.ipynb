{
 "cells": [
  {
   "cell_type": "markdown",
   "metadata": {},
   "source": [
    "# **검색량과 데이터 테이블 합치기**"
   ]
  },
  {
   "cell_type": "code",
   "execution_count": 61,
   "metadata": {},
   "outputs": [],
   "source": [
    "import pandas as pd\n",
    "import numpy as np"
   ]
  },
  {
   "cell_type": "code",
   "execution_count": 128,
   "metadata": {},
   "outputs": [],
   "source": [
    "df = pd.read_csv(\"C:/Users/whileduck/Desktop/빈좌석/클래식_빈좌석포함데이터.csv\",low_memory = False)\n",
    "keyword = pd.read_csv(\"C:/Users/whileduck/Desktop/Github/Concert-Hall-Price-Model/data/키워드사운드_예술의전당 콘서트홀_검색량.csv\", encoding = 'euc-kr')"
   ]
  },
  {
   "cell_type": "code",
   "execution_count": 129,
   "metadata": {},
   "outputs": [
    {
     "data": {
      "text/html": [
       "<div>\n",
       "<style scoped>\n",
       "    .dataframe tbody tr th:only-of-type {\n",
       "        vertical-align: middle;\n",
       "    }\n",
       "\n",
       "    .dataframe tbody tr th {\n",
       "        vertical-align: top;\n",
       "    }\n",
       "\n",
       "    .dataframe thead th {\n",
       "        text-align: right;\n",
       "    }\n",
       "</style>\n",
       "<table border=\"1\" class=\"dataframe\">\n",
       "  <thead>\n",
       "    <tr style=\"text-align: right;\">\n",
       "      <th></th>\n",
       "      <th>날짜</th>\n",
       "      <th>키워드</th>\n",
       "      <th>PC 검색량</th>\n",
       "      <th>모바일 검색량</th>\n",
       "      <th>총 검색량</th>\n",
       "    </tr>\n",
       "  </thead>\n",
       "  <tbody>\n",
       "    <tr>\n",
       "      <th>0</th>\n",
       "      <td>2016-01-01</td>\n",
       "      <td>예술의전당 콘서트홀</td>\n",
       "      <td>10</td>\n",
       "      <td>30</td>\n",
       "      <td>40</td>\n",
       "    </tr>\n",
       "    <tr>\n",
       "      <th>1</th>\n",
       "      <td>2016-01-02</td>\n",
       "      <td>예술의전당 콘서트홀</td>\n",
       "      <td>30</td>\n",
       "      <td>40</td>\n",
       "      <td>70</td>\n",
       "    </tr>\n",
       "    <tr>\n",
       "      <th>2</th>\n",
       "      <td>2016-01-03</td>\n",
       "      <td>예술의전당 콘서트홀</td>\n",
       "      <td>30</td>\n",
       "      <td>30</td>\n",
       "      <td>60</td>\n",
       "    </tr>\n",
       "    <tr>\n",
       "      <th>3</th>\n",
       "      <td>2016-01-04</td>\n",
       "      <td>예술의전당 콘서트홀</td>\n",
       "      <td>70</td>\n",
       "      <td>40</td>\n",
       "      <td>110</td>\n",
       "    </tr>\n",
       "    <tr>\n",
       "      <th>4</th>\n",
       "      <td>2016-01-05</td>\n",
       "      <td>예술의전당 콘서트홀</td>\n",
       "      <td>60</td>\n",
       "      <td>40</td>\n",
       "      <td>100</td>\n",
       "    </tr>\n",
       "  </tbody>\n",
       "</table>\n",
       "</div>"
      ],
      "text/plain": [
       "           날짜         키워드  PC 검색량  모바일 검색량  총 검색량\n",
       "0  2016-01-01  예술의전당 콘서트홀      10       30     40\n",
       "1  2016-01-02  예술의전당 콘서트홀      30       40     70\n",
       "2  2016-01-03  예술의전당 콘서트홀      30       30     60\n",
       "3  2016-01-04  예술의전당 콘서트홀      70       40    110\n",
       "4  2016-01-05  예술의전당 콘서트홀      60       40    100"
      ]
     },
     "execution_count": 129,
     "metadata": {},
     "output_type": "execute_result"
    }
   ],
   "source": [
    "keyword.head()"
   ]
  },
  {
   "cell_type": "markdown",
   "metadata": {},
   "source": [
    "##### **공연 최초 예매일 전 일주일 간의 누적 검색량을 검색량으로 생각하도록 하자**"
   ]
  },
  {
   "cell_type": "code",
   "execution_count": 130,
   "metadata": {},
   "outputs": [],
   "source": [
    "pre_open_date = df.loc[~df['pre_open_date'].isna(),'pre_open_date'].unique().tolist()\n",
    "open_date = df.loc[df['pre_open_date'].isna(), 'open_date'].unique().tolist()\n",
    "\n",
    "total_open = pre_open_date + open_date"
   ]
  },
  {
   "cell_type": "code",
   "execution_count": 116,
   "metadata": {},
   "outputs": [
    {
     "name": "stdout",
     "output_type": "stream",
     "text": [
      "유니크한 전체 공연 시간 : 162\n",
      "유니크한 전체 오픈 시간 :  150\n"
     ]
    }
   ],
   "source": [
    "print('유니크한 전체 공연 시간 :',df['전체공연시간'].nunique())\n",
    "print('유니크한 전체 오픈 시간 : ', len(total_open))"
   ]
  },
  {
   "cell_type": "markdown",
   "metadata": {},
   "source": [
    "##### **공연 별로 중복된 티켓 예매일이 존재한다**"
   ]
  },
  {
   "cell_type": "code",
   "execution_count": 117,
   "metadata": {},
   "outputs": [
    {
     "data": {
      "text/plain": [
       "2021-07-02    3.0\n",
       "2022-07-30    3.0\n",
       "2021-09-19    2.0\n",
       "2020-08-23    2.0\n",
       "2021-09-11    2.0\n",
       "             ... \n",
       "2019-12-20    1.0\n",
       "2019-11-16    1.0\n",
       "2019-11-29    1.0\n",
       "2019-10-14    1.0\n",
       "2023-03-25    1.0\n",
       "Name: pre_open_date, Length: 78, dtype: float64"
      ]
     },
     "metadata": {},
     "output_type": "display_data"
    },
    {
     "data": {
      "text/plain": [
       "2021-07-03    3.0\n",
       "2022-07-31    3.0\n",
       "2021-09-12    3.0\n",
       "2018-10-29    2.0\n",
       "2022-06-26    2.0\n",
       "             ... \n",
       "2019-09-28    1.0\n",
       "2019-11-30    1.0\n",
       "2019-08-03    1.0\n",
       "2019-10-25    1.0\n",
       "2023-03-26    1.0\n",
       "Name: open_date, Length: 138, dtype: float64"
      ]
     },
     "metadata": {},
     "output_type": "display_data"
    }
   ],
   "source": [
    "display(df['pre_open_date'].value_counts() / 2505)\n",
    "display(df['open_date'].value_counts() / 2505)"
   ]
  },
  {
   "cell_type": "markdown",
   "metadata": {},
   "source": [
    "# **각 공연 별로 첫 예매 시작 일주일 전의 누적 검색량을 데이터프레임에 병합하기**"
   ]
  },
  {
   "cell_type": "code",
   "execution_count": 158,
   "metadata": {},
   "outputs": [],
   "source": [
    "def keyword_calculator(data, keyword_data , days):\n",
    "    \n",
    "    data = data.copy()\n",
    "    data['누적검색량'] = 0 # 맨 처음 시리즈를 모두 0으로 초기화 \n",
    "    \n",
    "    unique_date_list = data['전체공연시간'].unique()\n",
    "    \n",
    "    for unq_date in unique_date_list:\n",
    "        \n",
    "        cond = data['전체공연시간'] == unq_date\n",
    "        \n",
    "        if np.sum(data.loc[cond,'pre_open_date'].isna()): # 만약 선예매가 열린 적 없다면\n",
    "            \n",
    "            base_days = data.loc[cond, 'open_date'].unique()[0]\n",
    "        else: # 만약 선예매가 열린 적이 있다면 \n",
    "            base_days = data.loc[cond, 'pre_open_date'].unique()[0]\n",
    "            \n",
    "        end_days = pd.to_datetime(base_days) # YYYY-MM-DD 형태가 검색의 end 부분 \n",
    "            \n",
    "        start_days = end_days - pd.Timedelta(days = days)\n",
    "            \n",
    "        keyword_cond = (keyword_data['날짜'] >= str(start_days)[:10]) & (keyword_data['날짜'] <= str(end_days)[:10])\n",
    "        \n",
    "        cumulative_searches = np.sum(keyword.loc[keyword_cond, '총 검색량'])\n",
    "        \n",
    "        data.loc[cond, '누적검색량'] = cumulative_searches\n",
    "        \n",
    "    return data\n",
    "    "
   ]
  },
  {
   "cell_type": "code",
   "execution_count": 164,
   "metadata": {},
   "outputs": [],
   "source": [
    "result = keyword_calculator(data = df,keyword_data = keyword, days = 7)"
   ]
  },
  {
   "cell_type": "code",
   "execution_count": 165,
   "metadata": {},
   "outputs": [
    {
     "data": {
      "text/html": [
       "<div>\n",
       "<style scoped>\n",
       "    .dataframe tbody tr th:only-of-type {\n",
       "        vertical-align: middle;\n",
       "    }\n",
       "\n",
       "    .dataframe tbody tr th {\n",
       "        vertical-align: top;\n",
       "    }\n",
       "\n",
       "    .dataframe thead th {\n",
       "        text-align: right;\n",
       "    }\n",
       "</style>\n",
       "<table border=\"1\" class=\"dataframe\">\n",
       "  <thead>\n",
       "    <tr style=\"text-align: right;\">\n",
       "      <th></th>\n",
       "      <th>seat</th>\n",
       "      <th>층</th>\n",
       "      <th>블록</th>\n",
       "      <th>열</th>\n",
       "      <th>넘버</th>\n",
       "      <th>X</th>\n",
       "      <th>Y</th>\n",
       "      <th>Z</th>\n",
       "      <th>대칭점</th>\n",
       "      <th>무대_밑_좌우시야각</th>\n",
       "      <th>...</th>\n",
       "      <th>running_time</th>\n",
       "      <th>intermission</th>\n",
       "      <th>member_yn</th>\n",
       "      <th>공연연도</th>\n",
       "      <th>공연월</th>\n",
       "      <th>공연일</th>\n",
       "      <th>공연연월</th>\n",
       "      <th>전체공연시간</th>\n",
       "      <th>전체거래시간</th>\n",
       "      <th>누적검색량</th>\n",
       "    </tr>\n",
       "  </thead>\n",
       "  <tbody>\n",
       "    <tr>\n",
       "      <th>0</th>\n",
       "      <td>1층 A블록1열 1</td>\n",
       "      <td>1층</td>\n",
       "      <td>A블록</td>\n",
       "      <td>1</td>\n",
       "      <td>1</td>\n",
       "      <td>1451</td>\n",
       "      <td>542</td>\n",
       "      <td>-93</td>\n",
       "      <td>1층 E블록1열 9</td>\n",
       "      <td>21</td>\n",
       "      <td>...</td>\n",
       "      <td>120</td>\n",
       "      <td>15</td>\n",
       "      <td>N</td>\n",
       "      <td>2018</td>\n",
       "      <td>11</td>\n",
       "      <td>2018-11-25</td>\n",
       "      <td>2018-11-01</td>\n",
       "      <td>2018-11-25 17:00:00</td>\n",
       "      <td>2018-11-16 15:06:00</td>\n",
       "      <td>1000</td>\n",
       "    </tr>\n",
       "    <tr>\n",
       "      <th>1</th>\n",
       "      <td>1층 A블록1열 2</td>\n",
       "      <td>1층</td>\n",
       "      <td>A블록</td>\n",
       "      <td>1</td>\n",
       "      <td>2</td>\n",
       "      <td>1406</td>\n",
       "      <td>555</td>\n",
       "      <td>-93</td>\n",
       "      <td>1층 E블록1열 8</td>\n",
       "      <td>22</td>\n",
       "      <td>...</td>\n",
       "      <td>120</td>\n",
       "      <td>15</td>\n",
       "      <td>N</td>\n",
       "      <td>2018</td>\n",
       "      <td>11</td>\n",
       "      <td>2018-11-25</td>\n",
       "      <td>2018-11-01</td>\n",
       "      <td>2018-11-25 17:00:00</td>\n",
       "      <td>2018-11-16 15:06:00</td>\n",
       "      <td>1000</td>\n",
       "    </tr>\n",
       "    <tr>\n",
       "      <th>2</th>\n",
       "      <td>1층 A블록1열 3</td>\n",
       "      <td>1층</td>\n",
       "      <td>A블록</td>\n",
       "      <td>1</td>\n",
       "      <td>3</td>\n",
       "      <td>1361</td>\n",
       "      <td>568</td>\n",
       "      <td>-93</td>\n",
       "      <td>1층 E블록1열 7</td>\n",
       "      <td>23</td>\n",
       "      <td>...</td>\n",
       "      <td>120</td>\n",
       "      <td>15</td>\n",
       "      <td>N</td>\n",
       "      <td>2018</td>\n",
       "      <td>11</td>\n",
       "      <td>2018-11-25</td>\n",
       "      <td>2018-11-01</td>\n",
       "      <td>2018-11-25 17:00:00</td>\n",
       "      <td>2018-11-16 15:06:00</td>\n",
       "      <td>1000</td>\n",
       "    </tr>\n",
       "    <tr>\n",
       "      <th>3</th>\n",
       "      <td>1층 A블록1열 4</td>\n",
       "      <td>1층</td>\n",
       "      <td>A블록</td>\n",
       "      <td>1</td>\n",
       "      <td>4</td>\n",
       "      <td>1315</td>\n",
       "      <td>580</td>\n",
       "      <td>-93</td>\n",
       "      <td>1층 E블록1열 6</td>\n",
       "      <td>23</td>\n",
       "      <td>...</td>\n",
       "      <td>120</td>\n",
       "      <td>15</td>\n",
       "      <td>N</td>\n",
       "      <td>2018</td>\n",
       "      <td>11</td>\n",
       "      <td>2018-11-25</td>\n",
       "      <td>2018-11-01</td>\n",
       "      <td>2018-11-25 17:00:00</td>\n",
       "      <td>2018-11-16 15:06:00</td>\n",
       "      <td>1000</td>\n",
       "    </tr>\n",
       "    <tr>\n",
       "      <th>4</th>\n",
       "      <td>1층 A블록1열 5</td>\n",
       "      <td>1층</td>\n",
       "      <td>A블록</td>\n",
       "      <td>1</td>\n",
       "      <td>5</td>\n",
       "      <td>1270</td>\n",
       "      <td>591</td>\n",
       "      <td>-93</td>\n",
       "      <td>1층 E블록1열 5</td>\n",
       "      <td>24</td>\n",
       "      <td>...</td>\n",
       "      <td>120</td>\n",
       "      <td>15</td>\n",
       "      <td>N</td>\n",
       "      <td>2018</td>\n",
       "      <td>11</td>\n",
       "      <td>2018-11-25</td>\n",
       "      <td>2018-11-01</td>\n",
       "      <td>2018-11-25 17:00:00</td>\n",
       "      <td>2018-11-16 15:06:00</td>\n",
       "      <td>1000</td>\n",
       "    </tr>\n",
       "  </tbody>\n",
       "</table>\n",
       "<p>5 rows × 43 columns</p>\n",
       "</div>"
      ],
      "text/plain": [
       "         seat   층   블록  열  넘버     X    Y   Z         대칭점  무대_밑_좌우시야각  ...  \\\n",
       "0  1층 A블록1열 1  1층  A블록  1   1  1451  542 -93  1층 E블록1열 9          21  ...   \n",
       "1  1층 A블록1열 2  1층  A블록  1   2  1406  555 -93  1층 E블록1열 8          22  ...   \n",
       "2  1층 A블록1열 3  1층  A블록  1   3  1361  568 -93  1층 E블록1열 7          23  ...   \n",
       "3  1층 A블록1열 4  1층  A블록  1   4  1315  580 -93  1층 E블록1열 6          23  ...   \n",
       "4  1층 A블록1열 5  1층  A블록  1   5  1270  591 -93  1층 E블록1열 5          24  ...   \n",
       "\n",
       "   running_time  intermission  member_yn  공연연도 공연월         공연일        공연연월  \\\n",
       "0           120            15          N  2018  11  2018-11-25  2018-11-01   \n",
       "1           120            15          N  2018  11  2018-11-25  2018-11-01   \n",
       "2           120            15          N  2018  11  2018-11-25  2018-11-01   \n",
       "3           120            15          N  2018  11  2018-11-25  2018-11-01   \n",
       "4           120            15          N  2018  11  2018-11-25  2018-11-01   \n",
       "\n",
       "                전체공연시간               전체거래시간 누적검색량  \n",
       "0  2018-11-25 17:00:00  2018-11-16 15:06:00  1000  \n",
       "1  2018-11-25 17:00:00  2018-11-16 15:06:00  1000  \n",
       "2  2018-11-25 17:00:00  2018-11-16 15:06:00  1000  \n",
       "3  2018-11-25 17:00:00  2018-11-16 15:06:00  1000  \n",
       "4  2018-11-25 17:00:00  2018-11-16 15:06:00  1000  \n",
       "\n",
       "[5 rows x 43 columns]"
      ]
     },
     "execution_count": 165,
     "metadata": {},
     "output_type": "execute_result"
    }
   ],
   "source": [
    "result.head()"
   ]
  },
  {
   "cell_type": "code",
   "execution_count": 166,
   "metadata": {},
   "outputs": [
    {
     "data": {
      "text/plain": [
       "count    405810.000000\n",
       "mean        900.185185\n",
       "std         386.835485\n",
       "min         110.000000\n",
       "25%         590.000000\n",
       "50%         890.000000\n",
       "75%        1170.000000\n",
       "max        2010.000000\n",
       "Name: 누적검색량, dtype: float64"
      ]
     },
     "execution_count": 166,
     "metadata": {},
     "output_type": "execute_result"
    }
   ],
   "source": [
    "result['누적검색량'].describe()"
   ]
  },
  {
   "cell_type": "code",
   "execution_count": 167,
   "metadata": {},
   "outputs": [],
   "source": [
    "file_path = 'C:/Users/whileduck/Desktop/빈좌석/'\n",
    "\n",
    "result.to_csv(file_path + '클래식_빈좌석포함데이터.csv',index = False)"
   ]
  }
 ],
 "metadata": {
  "kernelspec": {
   "display_name": "base",
   "language": "python",
   "name": "python3"
  },
  "language_info": {
   "codemirror_mode": {
    "name": "ipython",
    "version": 3
   },
   "file_extension": ".py",
   "mimetype": "text/x-python",
   "name": "python",
   "nbconvert_exporter": "python",
   "pygments_lexer": "ipython3",
   "version": "3.9.13"
  },
  "orig_nbformat": 4
 },
 "nbformat": 4,
 "nbformat_minor": 2
}
