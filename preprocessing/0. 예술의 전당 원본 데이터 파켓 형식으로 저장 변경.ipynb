{
 "cells": [
  {
   "cell_type": "code",
   "execution_count": 1,
   "metadata": {},
   "outputs": [],
   "source": [
    "import pandas as pd "
   ]
  },
  {
   "cell_type": "code",
   "execution_count": 2,
   "metadata": {},
   "outputs": [],
   "source": [
    "data = pd.read_csv(\"C:/Users/whileduck/Desktop/Github/Concert-Hall-Price-Model/data/2023빅콘테스트_어드밴스드리그_예술의전당.csv\") # 원본 데이터를\n",
    "\n",
    "file_path = \"C:/Users/whileduck/Desktop/Github/Concert-Hall-Price-Model/data/\"\n",
    "\n",
    "data.to_parquet(file_path + '2023빅콘테스트_어드밴스드리그_예술의전당.parquet',index = False)"
   ]
  }
 ],
 "metadata": {
  "kernelspec": {
   "display_name": "base",
   "language": "python",
   "name": "python3"
  },
  "language_info": {
   "codemirror_mode": {
    "name": "ipython",
    "version": 3
   },
   "file_extension": ".py",
   "mimetype": "text/x-python",
   "name": "python",
   "nbconvert_exporter": "python",
   "pygments_lexer": "ipython3",
   "version": "3.9.13"
  },
  "orig_nbformat": 4
 },
 "nbformat": 4,
 "nbformat_minor": 2
}
